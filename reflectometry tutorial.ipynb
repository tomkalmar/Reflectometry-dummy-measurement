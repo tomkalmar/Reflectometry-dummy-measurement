{
 "cells": [
  {
   "cell_type": "markdown",
   "metadata": {},
   "source": [
    "# Reflectomerty tutorial\n",
    "Prettry straight forward not much comments here"
   ]
  },
  {
   "cell_type": "code",
   "execution_count": 1,
   "metadata": {},
   "outputs": [],
   "source": [
    "import qcodes as qc\n",
    "from qcodes.tests.instrument_mocks import DummyInstrument\n",
    "import random\n",
    "from qcodes.utils.validators import Numbers\n",
    "import pandas as pd\n",
    "import numpy as np\n",
    "from time import strftime\n",
    "#import matplotlib"
   ]
  },
  {
   "cell_type": "markdown",
   "metadata": {},
   "source": [
    "# Dummy instruments below\n",
    "Lock in getter returns random number"
   ]
  },
  {
   "cell_type": "code",
   "execution_count": 2,
   "metadata": {},
   "outputs": [],
   "source": [
    "hm=DummyInstrument(name=\"hameg\", gates=[\"ch1\"])\n",
    "\n",
    "gs=DummyInstrument(name=\"yoko\", gates=[\"volt\"])\n",
    "sr=DummyInstrument(name=\"lockin\", gates=[\"R\"])\n",
    "setup=qc.Station(hm,gs,sr) #we can store the whole setup like this...fancy\n",
    "\n",
    "sr.R.get =   lambda: random.randint(0, 100) #the getter for lock-in returns a random number\n",
    "\n",
    "a=0 #variable for futuresetter and getters\n",
    "#here we set up the freq setting and getting\n",
    "def getter():\n",
    "    return a\n",
    "\n",
    "def setterf(x):\n",
    "    global a\n",
    "    a=x\n",
    "    #print('Setting F to {}'.format(x))\n",
    "    return None\n",
    "\n",
    "def setterv(x):\n",
    "    global a\n",
    "    a=x\n",
    "    #print('Setting V to {}'.format(x))\n",
    "    return None\n",
    "\n",
    "hm.add_parameter(\"frequency\",\n",
    "                label=\"Frequency\",\n",
    "                get_cmd=getter,\n",
    "                set_cmd=setterf,\n",
    "                unit=\"Hz\",\n",
    "                vals=Numbers(min_value=1, max_value=1e9))\n",
    "\n",
    "gs.add_parameter('voltage',\n",
    "                label='Voltage',\n",
    "                unit='V',\n",
    "                set_cmd=setterv,\n",
    "                get_cmd=getter)"
   ]
  },
  {
   "cell_type": "markdown",
   "metadata": {},
   "source": [
    "# Actual measurement below\n",
    "Copied and pasted from real measuring code"
   ]
  },
  {
   "cell_type": "markdown",
   "metadata": {},
   "source": [
    "# 2D sweep"
   ]
  },
  {
   "cell_type": "code",
   "execution_count": null,
   "metadata": {},
   "outputs": [],
   "source": [
    "#Starting voltage in volts\n",
    "start_volt=-5\n",
    "#End voltage in volts\n",
    "end_volt=5\n",
    "#Step size in volts\n",
    "delta_volt=1\n",
    "#Delay after each step in seconds\n",
    "delay_volt=1\n",
    "\n",
    "#Starting frequency in hertz\n",
    "start_freq=10e6\n",
    "#End frequency in hertz\n",
    "end_freq=30e6\n",
    "#Step size in hertz\n",
    "delta_freq=10e6\n",
    "#Delay after each step in seconds\n",
    "delay_freq=0.1\n",
    "\n",
    "#Saving the time of measurement we will use this data in the next cell\n",
    "date=strftime(\"%y_%m_%d_%H_%M_%S\")\n",
    "#This is the measuring loop with the parameters above\n",
    "loop=qc.Loop(gs.voltage.sweep(start_volt,end_volt,delta_volt),delay=delay_volt).loop(hm.frequency.sweep(start_freq,end_freq,delta_freq),delay=delay_freq).each(sr.R)\n",
    "#The results are stored in DataSet named 'data'\n",
    "data=loop.get_data_set(name=\"2D reflectometry sweep\")\n",
    "\n",
    "#Plotting part\n",
    "plot=qc.QtPlot(data.lockin_R)\n",
    "#plot.add(data.yoko_voltage_set)\n",
    "#plot.add(data.lockin_R)\n",
    "plot.autorange()\n",
    "loop.with_bg_task(plot.update)\n",
    "loop.run()"
   ]
  },
  {
   "cell_type": "markdown",
   "metadata": {},
   "source": [
    "# Saving the 2D sweep as csv\n",
    "We create numpy arrays from the DataSet arrays, then we build a pandas.DataFrame from them. Then we save the DataFrame with a name including the date and time when the measurement was started. The path is set by the value of 'filepath'. The savefile will have a name like: \" 'filepath'/2D_yy_mm_dd_hh_mm_ss.csv\"."
   ]
  },
  {
   "cell_type": "code",
   "execution_count": null,
   "metadata": {},
   "outputs": [],
   "source": [
    "#this is the dedicated variable for filepath\n",
    "filepath=\"\"\n",
    "#first we convert the arrays into numpy arrays one by one\n",
    "hameg_data=np.ravel(np.array(data.hameg_frequency_set))\n",
    "lockin_data=np.ravel(np.array(data.lockin_R))\n",
    "yoko_data=np.repeat(np.array(data.yoko_voltage_set),hameg_data.shape[0]/data.yoko_voltage_set.shape[0])\n",
    "#then we use pandas to save the csv\n",
    "df=pd.DataFrame(data=[yoko_data,hameg_data,lockin_data]).T\n",
    "df.rename(columns={0:\"Gate voltage (V)\",1:\"Frequency (Hz)\", 2:\"Reflected voltage (V)\"},inplace=True)\n",
    "df.to_csv(filepath+\"2D_\"+date+\".csv\",sep=\",\")\n",
    "#print(df)\n",
    "print(\"All data saved as csv!\")"
   ]
  },
  {
   "cell_type": "markdown",
   "metadata": {},
   "source": [
    "# Saving the 2D sweep as .png\n",
    "Using the default qcodes.pyqtgraph.save() method."
   ]
  },
  {
   "cell_type": "code",
   "execution_count": null,
   "metadata": {},
   "outputs": [],
   "source": [
    "plot.save(filepath+\"2D_\"+date+\".png\")"
   ]
  },
  {
   "cell_type": "markdown",
   "metadata": {},
   "source": [
    "## 1D sweep with fixed back gate voltage"
   ]
  },
  {
   "cell_type": "code",
   "execution_count": null,
   "metadata": {},
   "outputs": [],
   "source": [
    "#Fixed back gate voltage of Yokogawa\n",
    "fixed_volt=1\n",
    "gs.voltage=fixed_volt\n",
    "\n",
    "#Starting frequency in hertz\n",
    "start=10e6\n",
    "#End frequency in hertz\n",
    "end=200e6\n",
    "#Step size in hertz\n",
    "delta=10e6\n",
    "#Delay after each step in seconds\n",
    "delay=1\n",
    "\n",
    "#storing date and time\n",
    "date_v=strftime(\"%y_%m_%d_%H_%M_%S\")\n",
    "\n",
    "#This is the measuring loop with the parameters above\n",
    "loop_v=qc.Loop(hm.frequency.sweep(start,end,delta),delay=delay).each(sr.R)\n",
    "#The results are stored in DataSet named 'data'\n",
    "data_v=loop_v.get_data_set(name=\"1D reflectometry sweep voltage fix\")\n",
    "\n",
    "#Plotting part\n",
    "plot_v=qc.QtPlot(windowTitle=\"1D reflectometry sweep: gate voltage = \"+str(fixed_volt)+\" V\")\n",
    "plot_v.add(data_v.lockin_R)\n",
    "plot_v.autorange()\n",
    "loop_v.with_bg_task(plot_v.update)\n",
    "loop_v.run()"
   ]
  },
  {
   "cell_type": "markdown",
   "metadata": {},
   "source": [
    "# Saving 1D freq sweep in .csv\n",
    "Using the same method as in 2D sweep"
   ]
  },
  {
   "cell_type": "code",
   "execution_count": null,
   "metadata": {},
   "outputs": [],
   "source": [
    "#this is the dedicated variable for filepath\n",
    "filepath_v=\"\"\n",
    "#first we convert the arrays into numpy arrays one by one\n",
    "hameg_data_v=np.ravel(np.array(data_v.hameg_frequency_set))\n",
    "lockin_data_v=np.ravel(np.array(data_v.lockin_R))\n",
    "#then we use pandas to save the csv\n",
    "df=pd.DataFrame(data=[hameg_data_v,lockin_data_v]).T\n",
    "df.rename(columns={0:\"Frequency (Hz)\",1:\"Reflected voltage (V)\"},inplace=True)\n",
    "df.to_csv(filepath_v+\"1D_V_\"+str(fixed_volt)+\"_\"+date_v+\".csv\",sep=\",\")\n",
    "#print(df)\n",
    "print(\"All data saved as csv!\")"
   ]
  },
  {
   "cell_type": "markdown",
   "metadata": {},
   "source": [
    "# Saving 1D frequency sweep in .png"
   ]
  },
  {
   "cell_type": "code",
   "execution_count": null,
   "metadata": {},
   "outputs": [],
   "source": [
    "plot.save(filepath_v+\"1D_V_\"+str(fixed_volt)+\"_\"+date_v+\".png\")"
   ]
  },
  {
   "cell_type": "markdown",
   "metadata": {},
   "source": [
    "# 1D sweep with fixed freq"
   ]
  },
  {
   "cell_type": "code",
   "execution_count": 3,
   "metadata": {},
   "outputs": [
    {
     "name": "stderr",
     "output_type": "stream",
     "text": [
      "C:\\Anaconda3\\lib\\site-packages\\qcodes\\plots\\pyqtgraph.py:75: UserWarning: windowTitle argument has been changed to window_title. Please update your call to QtPlot\n",
      "  warnings.warn(\"windowTitle argument has been changed to \"\n"
     ]
    },
    {
     "name": "stdout",
     "output_type": "stream",
     "text": [
      "Started at 2018-09-05 18:26:57\n",
      "DataSet:\n",
      "   location = 'data/2018-09-05/#045_1D reflectometry sweep frequency fix_18-26-53'\n",
      "   <Type>   | <array_id>       | <array.name> | <array.shape>\n",
      "   Setpoint | yoko_voltage_set | voltage      | (11,)\n",
      "   Measured | lockin_R         | R            | (11,)\n",
      "Finished at 2018-09-05 18:27:08\n"
     ]
    },
    {
     "ename": "UnicodeDecodeError",
     "evalue": "'charmap' codec can't decode byte 0x81 in position 11124: character maps to <undefined>",
     "output_type": "error",
     "traceback": [
      "\u001b[1;31m---------------------------------------------------------------------------\u001b[0m",
      "\u001b[1;31mUnicodeDecodeError\u001b[0m                        Traceback (most recent call last)",
      "\u001b[1;32m<ipython-input-3-79632936d272>\u001b[0m in \u001b[0;36m<module>\u001b[1;34m()\u001b[0m\n\u001b[0;32m     21\u001b[0m \u001b[0mplot_f\u001b[0m\u001b[1;33m.\u001b[0m\u001b[0mautorange\u001b[0m\u001b[1;33m(\u001b[0m\u001b[1;33m)\u001b[0m\u001b[1;33m\u001b[0m\u001b[0m\n\u001b[0;32m     22\u001b[0m \u001b[0mloop_f\u001b[0m\u001b[1;33m.\u001b[0m\u001b[0mwith_bg_task\u001b[0m\u001b[1;33m(\u001b[0m\u001b[0mplot_f\u001b[0m\u001b[1;33m.\u001b[0m\u001b[0mupdate\u001b[0m\u001b[1;33m)\u001b[0m\u001b[1;33m\u001b[0m\u001b[0m\n\u001b[1;32m---> 23\u001b[1;33m \u001b[0mloop_f\u001b[0m\u001b[1;33m.\u001b[0m\u001b[0mrun\u001b[0m\u001b[1;33m(\u001b[0m\u001b[1;33m)\u001b[0m\u001b[1;33m\u001b[0m\u001b[0m\n\u001b[0m",
      "\u001b[1;32mC:\\Anaconda3\\lib\\site-packages\\qcodes\\loops.py\u001b[0m in \u001b[0;36mrun\u001b[1;34m(self, use_threads, quiet, station, progress_interval, set_active, *args, **kwargs)\u001b[0m\n\u001b[0;32m    736\u001b[0m             \u001b[1;32mif\u001b[0m \u001b[1;32mnot\u001b[0m \u001b[0mquiet\u001b[0m\u001b[1;33m:\u001b[0m\u001b[1;33m\u001b[0m\u001b[0m\n\u001b[0;32m    737\u001b[0m                 \u001b[0mprint\u001b[0m\u001b[1;33m(\u001b[0m\u001b[0mdatetime\u001b[0m\u001b[1;33m.\u001b[0m\u001b[0mnow\u001b[0m\u001b[1;33m(\u001b[0m\u001b[1;33m)\u001b[0m\u001b[1;33m.\u001b[0m\u001b[0mstrftime\u001b[0m\u001b[1;33m(\u001b[0m\u001b[1;34m'Started at %Y-%m-%d %H:%M:%S'\u001b[0m\u001b[1;33m)\u001b[0m\u001b[1;33m)\u001b[0m\u001b[1;33m\u001b[0m\u001b[0m\n\u001b[1;32m--> 738\u001b[1;33m             \u001b[0mself\u001b[0m\u001b[1;33m.\u001b[0m\u001b[0m_run_wrapper\u001b[0m\u001b[1;33m(\u001b[0m\u001b[1;33m)\u001b[0m\u001b[1;33m\u001b[0m\u001b[0m\n\u001b[0m\u001b[0;32m    739\u001b[0m             \u001b[0mds\u001b[0m \u001b[1;33m=\u001b[0m \u001b[0mself\u001b[0m\u001b[1;33m.\u001b[0m\u001b[0mdata_set\u001b[0m\u001b[1;33m\u001b[0m\u001b[0m\n\u001b[0;32m    740\u001b[0m         \u001b[1;32mfinally\u001b[0m\u001b[1;33m:\u001b[0m\u001b[1;33m\u001b[0m\u001b[0m\n",
      "\u001b[1;32mC:\\Anaconda3\\lib\\site-packages\\qcodes\\loops.py\u001b[0m in \u001b[0;36m_run_wrapper\u001b[1;34m(self, *args, **kwargs)\u001b[0m\n\u001b[0;32m    793\u001b[0m                 \u001b[0mts\u001b[0m \u001b[1;33m=\u001b[0m \u001b[0mdatetime\u001b[0m\u001b[1;33m.\u001b[0m\u001b[0mnow\u001b[0m\u001b[1;33m(\u001b[0m\u001b[1;33m)\u001b[0m\u001b[1;33m.\u001b[0m\u001b[0mstrftime\u001b[0m\u001b[1;33m(\u001b[0m\u001b[1;34m'%Y-%m-%d %H:%M:%S'\u001b[0m\u001b[1;33m)\u001b[0m\u001b[1;33m\u001b[0m\u001b[0m\n\u001b[0;32m    794\u001b[0m                 \u001b[0mself\u001b[0m\u001b[1;33m.\u001b[0m\u001b[0mdata_set\u001b[0m\u001b[1;33m.\u001b[0m\u001b[0madd_metadata\u001b[0m\u001b[1;33m(\u001b[0m\u001b[1;33m{\u001b[0m\u001b[1;34m'loop'\u001b[0m\u001b[1;33m:\u001b[0m \u001b[1;33m{\u001b[0m\u001b[1;34m'ts_end'\u001b[0m\u001b[1;33m:\u001b[0m \u001b[0mts\u001b[0m\u001b[1;33m}\u001b[0m\u001b[1;33m}\u001b[0m\u001b[1;33m)\u001b[0m\u001b[1;33m\u001b[0m\u001b[0m\n\u001b[1;32m--> 795\u001b[1;33m                 \u001b[0mself\u001b[0m\u001b[1;33m.\u001b[0m\u001b[0mdata_set\u001b[0m\u001b[1;33m.\u001b[0m\u001b[0mfinalize\u001b[0m\u001b[1;33m(\u001b[0m\u001b[1;33m)\u001b[0m\u001b[1;33m\u001b[0m\u001b[0m\n\u001b[0m\u001b[0;32m    796\u001b[0m \u001b[1;33m\u001b[0m\u001b[0m\n\u001b[0;32m    797\u001b[0m     def _run_loop(self, first_delay=0, action_indices=(),\n",
      "\u001b[1;32mC:\\Anaconda3\\lib\\site-packages\\qcodes\\data\\data_set.py\u001b[0m in \u001b[0;36mfinalize\u001b[1;34m(self, filename, write_metadata)\u001b[0m\n\u001b[0;32m    598\u001b[0m \u001b[1;33m\u001b[0m\u001b[0m\n\u001b[0;32m    599\u001b[0m         \u001b[1;32mif\u001b[0m \u001b[0mwrite_metadata\u001b[0m\u001b[1;33m:\u001b[0m\u001b[1;33m\u001b[0m\u001b[0m\n\u001b[1;32m--> 600\u001b[1;33m             \u001b[0mself\u001b[0m\u001b[1;33m.\u001b[0m\u001b[0msave_metadata\u001b[0m\u001b[1;33m(\u001b[0m\u001b[1;33m)\u001b[0m\u001b[1;33m\u001b[0m\u001b[0m\n\u001b[0m\u001b[0;32m    601\u001b[0m \u001b[1;33m\u001b[0m\u001b[0m\n\u001b[0;32m    602\u001b[0m     \u001b[1;32mdef\u001b[0m \u001b[0msnapshot\u001b[0m\u001b[1;33m(\u001b[0m\u001b[0mself\u001b[0m\u001b[1;33m,\u001b[0m \u001b[0mupdate\u001b[0m\u001b[1;33m=\u001b[0m\u001b[1;32mFalse\u001b[0m\u001b[1;33m)\u001b[0m\u001b[1;33m:\u001b[0m\u001b[1;33m\u001b[0m\u001b[0m\n",
      "\u001b[1;32mC:\\Anaconda3\\lib\\site-packages\\qcodes\\data\\data_set.py\u001b[0m in \u001b[0;36msave_metadata\u001b[1;34m(self)\u001b[0m\n\u001b[0;32m    575\u001b[0m         \u001b[1;32mif\u001b[0m \u001b[0mself\u001b[0m\u001b[1;33m.\u001b[0m\u001b[0mlocation\u001b[0m \u001b[1;32mis\u001b[0m \u001b[1;32mnot\u001b[0m \u001b[1;32mFalse\u001b[0m\u001b[1;33m:\u001b[0m\u001b[1;33m\u001b[0m\u001b[0m\n\u001b[0;32m    576\u001b[0m             \u001b[0mself\u001b[0m\u001b[1;33m.\u001b[0m\u001b[0msnapshot\u001b[0m\u001b[1;33m(\u001b[0m\u001b[1;33m)\u001b[0m\u001b[1;33m\u001b[0m\u001b[0m\n\u001b[1;32m--> 577\u001b[1;33m             \u001b[0mself\u001b[0m\u001b[1;33m.\u001b[0m\u001b[0mformatter\u001b[0m\u001b[1;33m.\u001b[0m\u001b[0mwrite_metadata\u001b[0m\u001b[1;33m(\u001b[0m\u001b[0mself\u001b[0m\u001b[1;33m,\u001b[0m \u001b[0mself\u001b[0m\u001b[1;33m.\u001b[0m\u001b[0mio\u001b[0m\u001b[1;33m,\u001b[0m \u001b[0mself\u001b[0m\u001b[1;33m.\u001b[0m\u001b[0mlocation\u001b[0m\u001b[1;33m)\u001b[0m\u001b[1;33m\u001b[0m\u001b[0m\n\u001b[0m\u001b[0;32m    578\u001b[0m \u001b[1;33m\u001b[0m\u001b[0m\n\u001b[0;32m    579\u001b[0m     \u001b[1;32mdef\u001b[0m \u001b[0mfinalize\u001b[0m\u001b[1;33m(\u001b[0m\u001b[0mself\u001b[0m\u001b[1;33m,\u001b[0m \u001b[0mfilename\u001b[0m\u001b[1;33m=\u001b[0m\u001b[1;32mNone\u001b[0m\u001b[1;33m,\u001b[0m \u001b[0mwrite_metadata\u001b[0m\u001b[1;33m=\u001b[0m\u001b[1;32mTrue\u001b[0m\u001b[1;33m)\u001b[0m\u001b[1;33m:\u001b[0m\u001b[1;33m\u001b[0m\u001b[0m\n",
      "\u001b[1;32mC:\\Anaconda3\\lib\\site-packages\\qcodes\\data\\gnuplot_format.py\u001b[0m in \u001b[0;36mwrite_metadata\u001b[1;34m(self, data_set, io_manager, location, read_first)\u001b[0m\n\u001b[0;32m    360\u001b[0m             \u001b[0mmemory_metadata\u001b[0m \u001b[1;33m=\u001b[0m \u001b[0mdata_set\u001b[0m\u001b[1;33m.\u001b[0m\u001b[0mmetadata\u001b[0m\u001b[1;33m\u001b[0m\u001b[0m\n\u001b[0;32m    361\u001b[0m             \u001b[0mdata_set\u001b[0m\u001b[1;33m.\u001b[0m\u001b[0mmetadata\u001b[0m \u001b[1;33m=\u001b[0m \u001b[1;33m{\u001b[0m\u001b[1;33m}\u001b[0m\u001b[1;33m\u001b[0m\u001b[0m\n\u001b[1;32m--> 362\u001b[1;33m             \u001b[0mself\u001b[0m\u001b[1;33m.\u001b[0m\u001b[0mread_metadata\u001b[0m\u001b[1;33m(\u001b[0m\u001b[0mdata_set\u001b[0m\u001b[1;33m)\u001b[0m\u001b[1;33m\u001b[0m\u001b[0m\n\u001b[0m\u001b[0;32m    363\u001b[0m             \u001b[0mdeep_update\u001b[0m\u001b[1;33m(\u001b[0m\u001b[0mdata_set\u001b[0m\u001b[1;33m.\u001b[0m\u001b[0mmetadata\u001b[0m\u001b[1;33m,\u001b[0m \u001b[0mmemory_metadata\u001b[0m\u001b[1;33m)\u001b[0m\u001b[1;33m\u001b[0m\u001b[0m\n\u001b[0;32m    364\u001b[0m \u001b[1;33m\u001b[0m\u001b[0m\n",
      "\u001b[1;32mC:\\Anaconda3\\lib\\site-packages\\qcodes\\data\\gnuplot_format.py\u001b[0m in \u001b[0;36mread_metadata\u001b[1;34m(self, data_set)\u001b[0m\n\u001b[0;32m    374\u001b[0m         \u001b[1;32mif\u001b[0m \u001b[0mio_manager\u001b[0m\u001b[1;33m.\u001b[0m\u001b[0mlist\u001b[0m\u001b[1;33m(\u001b[0m\u001b[0mfn\u001b[0m\u001b[1;33m)\u001b[0m\u001b[1;33m:\u001b[0m\u001b[1;33m\u001b[0m\u001b[0m\n\u001b[0;32m    375\u001b[0m             \u001b[1;32mwith\u001b[0m \u001b[0mio_manager\u001b[0m\u001b[1;33m.\u001b[0m\u001b[0mopen\u001b[0m\u001b[1;33m(\u001b[0m\u001b[0mfn\u001b[0m\u001b[1;33m,\u001b[0m \u001b[1;34m'r'\u001b[0m\u001b[1;33m)\u001b[0m \u001b[1;32mas\u001b[0m \u001b[0msnap_file\u001b[0m\u001b[1;33m:\u001b[0m\u001b[1;33m\u001b[0m\u001b[0m\n\u001b[1;32m--> 376\u001b[1;33m                 \u001b[0mmetadata\u001b[0m \u001b[1;33m=\u001b[0m \u001b[0mjson\u001b[0m\u001b[1;33m.\u001b[0m\u001b[0mload\u001b[0m\u001b[1;33m(\u001b[0m\u001b[0msnap_file\u001b[0m\u001b[1;33m,\u001b[0m \u001b[0mencoding\u001b[0m\u001b[1;33m=\u001b[0m\u001b[1;34m'utf8'\u001b[0m\u001b[1;33m)\u001b[0m\u001b[1;33m\u001b[0m\u001b[0m\n\u001b[0m\u001b[0;32m    377\u001b[0m             \u001b[0mdata_set\u001b[0m\u001b[1;33m.\u001b[0m\u001b[0mmetadata\u001b[0m\u001b[1;33m.\u001b[0m\u001b[0mupdate\u001b[0m\u001b[1;33m(\u001b[0m\u001b[0mmetadata\u001b[0m\u001b[1;33m)\u001b[0m\u001b[1;33m\u001b[0m\u001b[0m\n\u001b[0;32m    378\u001b[0m \u001b[1;33m\u001b[0m\u001b[0m\n",
      "\u001b[1;32mC:\\Anaconda3\\lib\\json\\__init__.py\u001b[0m in \u001b[0;36mload\u001b[1;34m(fp, cls, object_hook, parse_float, parse_int, parse_constant, object_pairs_hook, **kw)\u001b[0m\n\u001b[0;32m    294\u001b[0m \u001b[1;33m\u001b[0m\u001b[0m\n\u001b[0;32m    295\u001b[0m     \"\"\"\n\u001b[1;32m--> 296\u001b[1;33m     return loads(fp.read(),\n\u001b[0m\u001b[0;32m    297\u001b[0m         \u001b[0mcls\u001b[0m\u001b[1;33m=\u001b[0m\u001b[0mcls\u001b[0m\u001b[1;33m,\u001b[0m \u001b[0mobject_hook\u001b[0m\u001b[1;33m=\u001b[0m\u001b[0mobject_hook\u001b[0m\u001b[1;33m,\u001b[0m\u001b[1;33m\u001b[0m\u001b[0m\n\u001b[0;32m    298\u001b[0m         \u001b[0mparse_float\u001b[0m\u001b[1;33m=\u001b[0m\u001b[0mparse_float\u001b[0m\u001b[1;33m,\u001b[0m \u001b[0mparse_int\u001b[0m\u001b[1;33m=\u001b[0m\u001b[0mparse_int\u001b[0m\u001b[1;33m,\u001b[0m\u001b[1;33m\u001b[0m\u001b[0m\n",
      "\u001b[1;32mC:\\Anaconda3\\lib\\encodings\\cp1250.py\u001b[0m in \u001b[0;36mdecode\u001b[1;34m(self, input, final)\u001b[0m\n\u001b[0;32m     21\u001b[0m \u001b[1;32mclass\u001b[0m \u001b[0mIncrementalDecoder\u001b[0m\u001b[1;33m(\u001b[0m\u001b[0mcodecs\u001b[0m\u001b[1;33m.\u001b[0m\u001b[0mIncrementalDecoder\u001b[0m\u001b[1;33m)\u001b[0m\u001b[1;33m:\u001b[0m\u001b[1;33m\u001b[0m\u001b[0m\n\u001b[0;32m     22\u001b[0m     \u001b[1;32mdef\u001b[0m \u001b[0mdecode\u001b[0m\u001b[1;33m(\u001b[0m\u001b[0mself\u001b[0m\u001b[1;33m,\u001b[0m \u001b[0minput\u001b[0m\u001b[1;33m,\u001b[0m \u001b[0mfinal\u001b[0m\u001b[1;33m=\u001b[0m\u001b[1;32mFalse\u001b[0m\u001b[1;33m)\u001b[0m\u001b[1;33m:\u001b[0m\u001b[1;33m\u001b[0m\u001b[0m\n\u001b[1;32m---> 23\u001b[1;33m         \u001b[1;32mreturn\u001b[0m \u001b[0mcodecs\u001b[0m\u001b[1;33m.\u001b[0m\u001b[0mcharmap_decode\u001b[0m\u001b[1;33m(\u001b[0m\u001b[0minput\u001b[0m\u001b[1;33m,\u001b[0m\u001b[0mself\u001b[0m\u001b[1;33m.\u001b[0m\u001b[0merrors\u001b[0m\u001b[1;33m,\u001b[0m\u001b[0mdecoding_table\u001b[0m\u001b[1;33m)\u001b[0m\u001b[1;33m[\u001b[0m\u001b[1;36m0\u001b[0m\u001b[1;33m]\u001b[0m\u001b[1;33m\u001b[0m\u001b[0m\n\u001b[0m\u001b[0;32m     24\u001b[0m \u001b[1;33m\u001b[0m\u001b[0m\n\u001b[0;32m     25\u001b[0m \u001b[1;32mclass\u001b[0m \u001b[0mStreamWriter\u001b[0m\u001b[1;33m(\u001b[0m\u001b[0mCodec\u001b[0m\u001b[1;33m,\u001b[0m\u001b[0mcodecs\u001b[0m\u001b[1;33m.\u001b[0m\u001b[0mStreamWriter\u001b[0m\u001b[1;33m)\u001b[0m\u001b[1;33m:\u001b[0m\u001b[1;33m\u001b[0m\u001b[0m\n",
      "\u001b[1;31mUnicodeDecodeError\u001b[0m: 'charmap' codec can't decode byte 0x81 in position 11124: character maps to <undefined>"
     ]
    }
   ],
   "source": [
    "#Fixed frequency of HAMEG\n",
    "fixed_freq=1e6\n",
    "hm.freq=fixed_freq\n",
    "\n",
    "#Starting voltage in volts\n",
    "start=-5\n",
    "#End voltage in volts\n",
    "end=5\n",
    "#Step size in volts\n",
    "delta=1\n",
    "#Delay after each step in seconds\n",
    "delay=1\n",
    "\n",
    "#storing date and time\n",
    "date_f=strftime(\"%y_%m_%d_%H_%M_%S\")\n",
    "\n",
    "loop_f=qc.Loop(gs.voltage.sweep(start,end,delta),delay=delay).each(sr.R)\n",
    "data_f=loop_f.get_data_set(name=\"1D reflectometry sweep frequency fix\")\n",
    "plot_f=qc.QtPlot(windowTitle=\"1D reflectometry sweep: frequency = \"+str(fixed_freq)+\" Hz\")\n",
    "plot_f.add(data_f.lockin_R)\n",
    "plot_f.autorange()\n",
    "loop_f.with_bg_task(plot_f.update)\n",
    "loop_f.run()"
   ]
  },
  {
   "cell_type": "markdown",
   "metadata": {},
   "source": [
    "# Saving 1D frequency sweep in .csv\n",
    "All the same as before.."
   ]
  },
  {
   "cell_type": "code",
   "execution_count": 4,
   "metadata": {},
   "outputs": [
    {
     "name": "stdout",
     "output_type": "stream",
     "text": [
      "All data saved as csv!\n"
     ]
    }
   ],
   "source": [
    "#this is the dedicated variable for filepath\n",
    "filepath_f=\"\"\n",
    "#first we convert the arrays into numpy arrays one by one\n",
    "hameg_data_f=np.ravel(np.array(data_f.yoko_voltage_set))\n",
    "lockin_data_f=np.ravel(np.array(data_f.lockin_R))\n",
    "#then we use pandas to save the csv\n",
    "df=pd.DataFrame(data=[hameg_data_f,lockin_data_f]).T\n",
    "df.rename(columns={0:\"Frequency (Hz)\",1:\"Reflected voltage (V)\"},inplace=True)\n",
    "df.to_csv(filepath_f+\"1D_F_\"+str(fixed_freq)+\"_\"+date_f+\".csv\",sep=\",\")\n",
    "#print(df)\n",
    "print(\"All data saved as csv!\")"
   ]
  },
  {
   "cell_type": "markdown",
   "metadata": {},
   "source": [
    "# Saving 1D voltage sweep in .png"
   ]
  },
  {
   "cell_type": "code",
   "execution_count": 10,
   "metadata": {},
   "outputs": [],
   "source": [
    "plot_f.save(filepath_f+\"1D_F_\"+str(fixed_freq)+\"_\"+date_f+\".png\")"
   ]
  },
  {
   "cell_type": "markdown",
   "metadata": {},
   "source": [
    "# Some other irrelevant stuff. Might be useful for testing though"
   ]
  },
  {
   "cell_type": "code",
   "execution_count": null,
   "metadata": {},
   "outputs": [],
   "source": [
    "#just testing the commands here...\n",
    "hm.frequency.set(8)\n",
    "print(hm.frequency.get())\n",
    "print(sr.x.get())\n",
    "gs.voltage.set(1)\n",
    "print(gs.voltage.get())"
   ]
  },
  {
   "cell_type": "code",
   "execution_count": null,
   "metadata": {},
   "outputs": [],
   "source": [
    "#we are sweeping freq and measuring sr.x value\n",
    "#for sweep:(start,end,step) delay in secs\n",
    "loop=qc.Loop(hm.frequency.sweep(100,1000,10),delay=0.01).each(sr.x)\n",
    "data = loop.get_data_set(name='testsweep')"
   ]
  },
  {
   "cell_type": "code",
   "execution_count": null,
   "metadata": {},
   "outputs": [],
   "source": [
    "print(data)"
   ]
  },
  {
   "cell_type": "code",
   "execution_count": null,
   "metadata": {
    "scrolled": true
   },
   "outputs": [],
   "source": [
    "plot = qc.MatPlot(data.lock_x)  # create a 1D plot\n",
    "loop.with_bg_task(plot.update)\n",
    "loop.run();"
   ]
  },
  {
   "cell_type": "markdown",
   "metadata": {},
   "source": [
    "Here we try 2D loop and plot"
   ]
  },
  {
   "cell_type": "code",
   "execution_count": null,
   "metadata": {},
   "outputs": [],
   "source": [
    "loop2=qc.Loop(hm.frequency.sweep(100,1000,10),delay=0.1).loop(gs.voltage.sweep(0,5,0.1),delay=0.1).each(sr.x)\n",
    "data2 = loop.get_data_set(name='2D_test')"
   ]
  },
  {
   "cell_type": "code",
   "execution_count": null,
   "metadata": {},
   "outputs": [],
   "source": [
    "plot2 = qc.MatPlot(data2.lock_x)\n",
    "loop.with_bg_task(plot.update)\n",
    "loop.run();"
   ]
  },
  {
   "cell_type": "code",
   "execution_count": null,
   "metadata": {},
   "outputs": [],
   "source": []
  }
 ],
 "metadata": {
  "kernelspec": {
   "display_name": "Python 3",
   "language": "python",
   "name": "python3"
  },
  "language_info": {
   "codemirror_mode": {
    "name": "ipython",
    "version": 3
   },
   "file_extension": ".py",
   "mimetype": "text/x-python",
   "name": "python",
   "nbconvert_exporter": "python",
   "pygments_lexer": "ipython3",
   "version": "3.6.5"
  }
 },
 "nbformat": 4,
 "nbformat_minor": 2
}
